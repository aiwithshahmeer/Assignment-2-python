{
 "cells": [
  {
   "cell_type": "markdown",
   "id": "78771a4b",
   "metadata": {},
   "source": [
    "## Scenario 1: Grocery Shopping List\n",
    "- You are creating a program to manage a grocery shopping list. Users should be able to add items,remove items, and display the current list.\n"
   ]
  },
  {
   "cell_type": "code",
   "execution_count": 64,
   "id": "6a6fa63a",
   "metadata": {},
   "outputs": [
    {
     "name": "stdout",
     "output_type": "stream",
     "text": [
      "Enter any item to add to the list: Ghee\n",
      "Grocery list is now ['Sugar', 'Tea', 'Oil', 'Lentils', 'Milk', 'Ghee']\n",
      "Enter anything you want to delete from the list: Aata\n",
      "The item \"Aata\" is not in the list.\n"
     ]
    }
   ],
   "source": [
    "Grocery_List = [\"Sugar\", \"Tea\", \"Oil\", \"Lentils\", \"Milk\"]\n",
    "new_item = input(\"Enter any item to add to the list: \")\n",
    "Grocery_List.append(new_item)\n",
    "print(f'Grocery list is now {Grocery_List}')\n",
    "\n",
    "item_to_remove = input(\"Enter anything you want to delete from the list: \")\n",
    "if item_to_remove in Grocery_List:\n",
    "    Grocery_List.remove(item_to_remove)\n",
    "    print(f'Updated Grocery list is now {Grocery_List}')\n",
    "else:\n",
    "    print(f'The item \"{item_to_remove}\" is not in the list.')\n"
   ]
  },
  {
   "cell_type": "markdown",
   "id": "9dd41140",
   "metadata": {},
   "source": [
    "## Scenario 2: Student Grades\n",
    "- You are managing student grades using a dictionary. You need to calculate the average grade.take atleast 5 Students grades & then calculate the average.\n"
   ]
  },
  {
   "cell_type": "code",
   "execution_count": 26,
   "id": "d1d6c739",
   "metadata": {},
   "outputs": [],
   "source": [
    "Grades = [{\"Name\" : \"Ali\",\n",
    "         \"Roll_no\" : \"1111\",\n",
    "         \"Class\" : \"XI\",\n",
    "          \"percentage\": 86},\n",
    "         {\"Name\":\"Shahmeer\",\n",
    "         \"Roll_no\":\"2222\",\n",
    "         \"Class\":\"XI\",\n",
    "         \"percentage\": 92},\n",
    "         {\"Name\":\"Bilal\",\n",
    "         \"Roll_no\":\"3333\",\n",
    "         \"Class\":\"XI\",\n",
    "         \"percentage\": 45},\n",
    "         {\"Name\":\"Bilal\",\n",
    "         \"Roll_no\":\"3333\",\n",
    "         \"Class\":\"XI\",\n",
    "         \"percentage\": 62},\n",
    "        {\"Name\":\"Bilal\",\n",
    "         \"Roll_no\":\"3333\",\n",
    "         \"Class\":\"XI\",\n",
    "         \"percentage\": 74}]"
   ]
  },
  {
   "cell_type": "code",
   "execution_count": 28,
   "id": "62a81a96",
   "metadata": {},
   "outputs": [
    {
     "data": {
      "text/plain": [
       "45"
      ]
     },
     "execution_count": 28,
     "metadata": {},
     "output_type": "execute_result"
    }
   ],
   "source": [
    "Grades[2][\"percentage\"]"
   ]
  },
  {
   "cell_type": "code",
   "execution_count": 29,
   "id": "001857a9",
   "metadata": {},
   "outputs": [
    {
     "name": "stdout",
     "output_type": "stream",
     "text": [
      "71.8\n"
     ]
    }
   ],
   "source": [
    "Avrage = []\n",
    "for perc in Grades:\n",
    "    \n",
    "    if perc:\n",
    "        Avrage.append(perc[\"percentage\"])\n",
    "        Average = sum(Avrage)/len(Avrage)\n",
    "print(Average)"
   ]
  },
  {
   "cell_type": "markdown",
   "id": "8bac0b02",
   "metadata": {},
   "source": [
    "## Scenario 3: Word Frequency Counter\n",
    "- You are given a list of words, and you need to count the frequency of each word.\n",
    "- word_list = [\"apple\", \"banana\", \"apple\", \"orange\", \"banana\", \"grape\", \"apple\"]\n"
   ]
  },
  {
   "cell_type": "code",
   "execution_count": 63,
   "id": "500e2267",
   "metadata": {},
   "outputs": [
    {
     "name": "stdout",
     "output_type": "stream",
     "text": [
      "Apple frequency in this list is 3\n",
      "Banana frequency in this list is 2\n",
      "Orange frequency in this list is 1\n",
      "Grape frequency in this list is 1\n"
     ]
    }
   ],
   "source": [
    "word_list = [\"apple\", \"banana\", \"apple\", \"orange\", \"banana\", \"grape\", \"apple\"]\n",
    "count = []\n",
    "for temp in word_list:\n",
    "    \n",
    "    if temp == \"apple\":\n",
    "        apple_count = 1\n",
    "    else:\n",
    "        apple_count = 0\n",
    "    count.append(apple_count)\n",
    "    \n",
    "apple = sum(count)\n",
    "print(f'Apple frequency in this list is {apple}')\n",
    "\n",
    "count = []\n",
    "for temp in word_list:\n",
    "    \n",
    "    if temp == \"banana\":\n",
    "        banana_count = 1\n",
    "    else:\n",
    "        banana_count = 0\n",
    "    count.append(banana_count)\n",
    "    \n",
    "banana = sum(count)\n",
    "print(f'Banana frequency in this list is {banana}')\n",
    "\n",
    "count = []\n",
    "for temp in word_list:\n",
    "    \n",
    "    if temp == \"orange\":\n",
    "        orange_count = 1\n",
    "    else:\n",
    "        orange_count = 0\n",
    "    count.append(orange_count)\n",
    "    \n",
    "orange = sum(count)\n",
    "print(f'Orange frequency in this list is {orange}')\n",
    "\n",
    "count = []\n",
    "for temp in word_list:\n",
    "    \n",
    "    if temp == \"grape\":\n",
    "        grape_count = 1\n",
    "    else:\n",
    "        grape_count = 0\n",
    "    count.append(grape_count)\n",
    "    \n",
    "grape = sum(count)\n",
    "print(f'Grape frequency in this list is {grape}')\n",
    "\n"
   ]
  },
  {
   "cell_type": "markdown",
   "id": "17251aa4",
   "metadata": {},
   "source": [
    "## Scenario 4: Password Strength Checker\n",
    "You are creating a program to check the strength of passwords based on certain criteria.\n",
    "- Password should be at least 8 characters long.\n",
    "- Password should contain at least one digit.\n",
    "- Password should contain at least one letter.\n"
   ]
  },
  {
   "cell_type": "code",
   "execution_count": 52,
   "id": "2a8e1006",
   "metadata": {},
   "outputs": [
    {
     "name": "stdout",
     "output_type": "stream",
     "text": [
      "Enter the password :Ali12345\n",
      "That is a valid password\n"
     ]
    }
   ],
   "source": [
    "length = lower = upper = digit = False\n",
    "password = input(\"Enter the password :\")\n",
    "if len(password) >=8:\n",
    "    length = True\n",
    "    for letter in password:\n",
    "        if letter.islower():\n",
    "            lower = True\n",
    "        elif letter.isupper():\n",
    "            upper = True\n",
    "        elif letter.isdigit():\n",
    "            digit = True\n",
    "            \n",
    "if length and lower and upper and digit:\n",
    "    print('That is a valid password')\n",
    "else:\n",
    "    print('Password is not valid')\n",
    "    print('Password must contain one uppercase')\n",
    "    print('Password must contain one lowercase')\n",
    "    print('Password must contain one digit')"
   ]
  },
  {
   "cell_type": "markdown",
   "id": "6986d3ec",
   "metadata": {},
   "source": [
    "## Scenario 05: Voting System (Annual Employee Recognition Awards)\n",
    "- You are developing a simple voting system for a contest. Users can vote for their Favorite option, and you need to count the votes.\n",
    "- In a corporate setting, the HR department is organizing the Annual Employee Recognition Awards, where employees get the opportunity to vote for their colleagues nominated in different categories. \n",
    "- The HR team has decided to use a simple voting system to collect and tally votes for the nominees in various award categories. The script provided will be utilized for this purpose.\n",
    "- Candidates: The nominees for different award categories, such as \"Employee of the Year,\" \"Team Player of the Year,\" and \"Innovation Award,\" are represented by the list of candidates: 'Candidate A,' 'Candidate B,' and 'Candidate C.'\n",
    "- Voting Process: Employees are requested to input the number of voters participating in the awards. Each voter is presented with a list of nominees, and they can vote for their preferred candidate by entering the corresponding number.\n",
    "- Validation: The script ensures that the entered vote is within the valid range of candidates. If an employee enters an invalid vote, the system prompts them to choose a valid candidate.\n",
    "- Recording Votes: The script records each vote for the selected candidate and prints a confirmation message indicating that the vote has been recorded.\n",
    "- Results Display: Once all votes are collected, the system displays the voting results, showing the number of votes each candidate received in each category.\n",
    "- Award Winners: Based on the voting results, the HR department can identify the winners for each award category and proceed with recognizing and rewarding the selected employees during the Annual Employee Recognition Ceremony.\n",
    "- This script provides a straightforward and transparent way for employees to participate in the recognition process, fostering a sense of engagement and community within the organization. The HR team can use the collected votes to acknowledge and appreciate the efforts of outstanding employees in various aspects of their work."
   ]
  },
  {
   "cell_type": "code",
   "execution_count": 4,
   "id": "3201d5c8",
   "metadata": {},
   "outputs": [
    {
     "name": "stdout",
     "output_type": "stream",
     "text": [
      "Enter Number of Voters : 3\n",
      "candidates:\n",
      "1.candidate_A\n",
      "2.candidate_B\n",
      "3.candidate_C\n",
      "Enter number corresponding to your vote: 2\n",
      "Vote for candidate_B recorded.\n",
      "candidates:\n",
      "1.candidate_A\n",
      "2.candidate_B\n",
      "3.candidate_C\n",
      "Enter number corresponding to your vote: 2\n",
      "Vote for candidate_B recorded.\n",
      "candidates:\n",
      "1.candidate_A\n",
      "2.candidate_B\n",
      "3.candidate_C\n",
      "Enter number corresponding to your vote: 1\n",
      "Vote for candidate_A recorded.\n",
      "\n",
      "Voting Results:\n",
      "candidate_A:1 votes\n",
      "candidate_B:2 votes\n",
      "candidate_C:0 votes\n"
     ]
    }
   ],
   "source": [
    "candidates = ['candidate_A', 'candidate_B', 'candidate_C']\n",
    "votes = {candidate : 0 for candidate in candidates}\n",
    "num_voters = int(input(\"Enter Number of Voters : \"))\n",
    "\n",
    "for _ in range(num_voters):\n",
    "    print(\"candidates:\")\n",
    "    for i, candidate in enumerate(candidates,start=1):\n",
    "        print(f'{i}.{candidate}')\n",
    "        \n",
    "    vote = int(input(\"Enter number corresponding to your vote: \"))\n",
    "    if 1 <= vote <= len(candidates):\n",
    "        selected_candidate = candidates[vote -1]\n",
    "        votes[selected_candidate] += 1\n",
    "        print(f'Vote for {selected_candidate} recorded.')\n",
    "    else:\n",
    "        print(\"Invalid vote. Please choose a valid candidate.\")\n",
    "print(\"\\nVoting Results:\")\n",
    "for candidate,vote_count in votes.items():\n",
    "    print(f'{candidate}:{vote_count} votes')"
   ]
  },
  {
   "cell_type": "code",
   "execution_count": null,
   "id": "4fd1d0c4",
   "metadata": {},
   "outputs": [],
   "source": []
  }
 ],
 "metadata": {
  "kernelspec": {
   "display_name": "Python 3 (ipykernel)",
   "language": "python",
   "name": "python3"
  },
  "language_info": {
   "codemirror_mode": {
    "name": "ipython",
    "version": 3
   },
   "file_extension": ".py",
   "mimetype": "text/x-python",
   "name": "python",
   "nbconvert_exporter": "python",
   "pygments_lexer": "ipython3",
   "version": "3.11.5"
  }
 },
 "nbformat": 4,
 "nbformat_minor": 5
}
